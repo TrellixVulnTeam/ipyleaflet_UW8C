{
 "cells": [
  {
   "cell_type": "code",
   "execution_count": null,
   "metadata": {
    "collapsed": true
   },
   "outputs": [],
   "source": [
    "from ipyleaflet import Map, Marker, MarkerCluster\n",
    "\n",
    "m = Map(center=(50, 0), zoom=5)\n",
    "\n",
    "marker1 = Marker(location=(48, -2))\n",
    "marker2 = Marker(location=(50, 0))\n",
    "marker3 = Marker(location=(52, 2))\n",
    "\n",
    "marker_cluster = MarkerCluster(\n",
    "    markers=(marker1, marker2, marker3)\n",
    ")\n",
    "\n",
    "m.add_layer(marker_cluster);\n",
    "\n",
    "m\n",
    "\n"
   ]
  }
 ],
 "metadata": {
  "kernelspec": {
   "display_name": "Python 3",
   "language": "python",
   "name": "python3"
  },
  "language_info": {
   "codemirror_mode": {
    "name": "ipython",
    "version": 2
   },
   "file_extension": ".py",
   "mimetype": "text/x-python",
   "name": "python",
   "nbconvert_exporter": "python",
   "pygments_lexer": "ipython2",
   "version": "2.7.6"
  },
  "pycharm": {
   "stem_cell": {
    "cell_type": "raw",
    "source": [],
    "metadata": {
     "collapsed": false
    }
   }
  }
 },
 "nbformat": 4,
 "nbformat_minor": 0
}