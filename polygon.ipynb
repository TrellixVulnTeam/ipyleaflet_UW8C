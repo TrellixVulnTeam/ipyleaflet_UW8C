{
 "cells": [
  {
   "cell_type": "code",
   "execution_count": null,
   "metadata": {
    "collapsed": true
   },
   "outputs": [],
   "source": [
    "from ipyleaflet import Map, Polygon\n",
    "\n",
    "polygon = Polygon(\n",
    "    locations=[(42, -49), (43, -49), (43, -48)],\n",
    "    color=\"green\",\n",
    "    fill_color=\"green\"\n",
    ")\n",
    "\n",
    "m = Map(center=(42.5531, -48.6914), zoom=6)\n",
    "m.add_layer(polygon);\n",
    "\n",
    "m\n",
    "\n"
   ]
  },
  {
   "cell_type": "code",
   "execution_count": null,
   "outputs": [],
   "source": [
    "from ipyleaflet import Map, Polygon\n",
    "\n",
    "polygon = Polygon(\n",
    "    locations= [\n",
    "        [(37, -109.05), (41, -109.03), (41, -102.05), (37, -102.04)],\n",
    "        [(37.29, -108.58), (40.71, -108.58), (40.71, -102.50), (37.29, -102.50)]\n",
    "    ],\n",
    "    color=\"green\",\n",
    "    fill_color=\"green\"\n",
    ")\n",
    "\n",
    "m = Map(center=(37.5531, -109.6914), zoom=5)\n",
    "m.add_layer(polygon);\n",
    "\n",
    "m\n",
    "\n"
   ],
   "metadata": {
    "collapsed": false,
    "pycharm": {
     "name": "#%%\n"
    }
   }
  },
  {
   "cell_type": "code",
   "execution_count": null,
   "outputs": [],
   "source": [
    "multipolygon = Polygon(\n",
    "    locations=[\n",
    "        [(42, -49), (43, -49), (43, -48)],\n",
    "        [(44,-49), (43, -50), (44,-50)]\n",
    "    ],\n",
    "    color=\"green\",\n",
    "    fill_color=\"green\"\n",
    ")\n",
    "\n",
    "m = Map(center=(42.5531, -48.6914), zoom=6)\n",
    "m.add_layer(multipolygon);\n",
    "\n",
    "m\n"
   ],
   "metadata": {
    "collapsed": false,
    "pycharm": {
     "name": "#%%\n"
    }
   }
  },
  {
   "cell_type": "code",
   "execution_count": null,
   "outputs": [],
   "source": [
    "from ipyleaflet import Map, Polygon\n",
    "\n",
    "polygon = Polygon(\n",
    "    locations=[(42, -49), (43, -49), (43, -48)],\n",
    "    color=\"green\",\n",
    "    fill_color=\"green\",\n",
    "    transform=True\n",
    ")\n",
    "\n",
    "m = Map(center=(42.5531, -48.6914), zoom=6)\n",
    "m.add_layer(polygon);\n",
    "\n",
    "m\n",
    "\n"
   ],
   "metadata": {
    "collapsed": false,
    "pycharm": {
     "name": "#%%\n"
    }
   }
  }
 ],
 "metadata": {
  "kernelspec": {
   "display_name": "Python 3",
   "language": "python",
   "name": "python3"
  },
  "language_info": {
   "codemirror_mode": {
    "name": "ipython",
    "version": 2
   },
   "file_extension": ".py",
   "mimetype": "text/x-python",
   "name": "python",
   "nbconvert_exporter": "python",
   "pygments_lexer": "ipython2",
   "version": "2.7.6"
  },
  "pycharm": {
   "stem_cell": {
    "cell_type": "raw",
    "source": [],
    "metadata": {
     "collapsed": false
    }
   }
  }
 },
 "nbformat": 4,
 "nbformat_minor": 0
}