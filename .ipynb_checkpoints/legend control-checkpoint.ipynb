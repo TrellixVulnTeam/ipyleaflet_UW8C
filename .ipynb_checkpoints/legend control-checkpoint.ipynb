{
 "cells": [
  {
   "cell_type": "code",
   "execution_count": 3,
   "metadata": {},
   "outputs": [
    {
     "data": {
      "application/vnd.jupyter.widget-view+json": {
       "model_id": "587863803a154706a19293932c70de6d",
       "version_major": 2,
       "version_minor": 0
      },
      "text/plain": [
       "Map(center=[-10, -45], controls=(ZoomControl(options=['position', 'zoom_in_text', 'zoom_in_title', 'zoom_out_t…"
      ]
     },
     "metadata": {},
     "output_type": "display_data"
    }
   ],
   "source": [
    "from ipyleaflet import Map, LegendControl\n",
    "\n",
    "m = Map(center=(-10,-45), zoom=4)\n",
    "\n",
    "legend = LegendControl({\"low\":\"#FAA\", \"medium\":\"#A55\", \"High\":\"#500\"}, name=\"Legend\", position=\"topright\")\n",
    "m.add_control(legend)\n",
    "m\n",
    "# Manipulate the legend\n",
    "\n",
    "# Set/Get legend title\n",
    "# legend.name = \"Risk\"  # Set name\n",
    "# legend.name  # Get name\n",
    "\n",
    "# Set/Get legend content\n",
    "# legend.legends = {\"el1\":\"#FAA\", \"el2\":\"#A55\", \"el3\":\"#500\"}  # Set content\n",
    "# legend.legends  # Get content\n",
    "\n",
    "# legend.add_legend_element(\"el5\",\"#000\")  # Add a legend element\n",
    "# legend.remove_legend_element(\"el5\")  # Remove a legend element\n",
    "\n",
    "# legend position\n",
    "# legend.position = \"topright\"  # Set position\n",
    "# legend.position  # Get current position\n",
    "\n"
   ]
  },
  {
   "cell_type": "code",
   "execution_count": null,
   "metadata": {},
   "outputs": [],
   "source": []
  }
 ],
 "metadata": {
  "kernelspec": {
   "display_name": "Python 3",
   "language": "python",
   "name": "python3"
  },
  "language_info": {
   "codemirror_mode": {
    "name": "ipython",
    "version": 3
   },
   "file_extension": ".py",
   "mimetype": "text/x-python",
   "name": "python",
   "nbconvert_exporter": "python",
   "pygments_lexer": "ipython3",
   "version": "3.6.9"
  },
  "pycharm": {
   "stem_cell": {
    "cell_type": "raw",
    "metadata": {
     "collapsed": false
    },
    "source": []
   }
  }
 },
 "nbformat": 4,
 "nbformat_minor": 1
}
