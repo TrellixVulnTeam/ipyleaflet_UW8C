{
 "cells": [
  {
   "cell_type": "code",
   "execution_count": null,
   "metadata": {
    "collapsed": true
   },
   "outputs": [],
   "source": [
    "from ipyleaflet import AwesomeIcon, Marker, Map\n",
    "\n",
    "center = (38.91342738235981, -77.03912909142674)\n",
    "\n",
    "icon1 = AwesomeIcon(\n",
    "    name='bus',\n",
    "    marker_color='red',\n",
    "    icon_color='black',\n",
    "    spin=False\n",
    ")\n",
    "\n",
    "marker1 = Marker(icon=icon1, location=(center[0], center[1] - 0.05))\n",
    "\n",
    "icon2 = AwesomeIcon(\n",
    "    name='gear',\n",
    "    marker_color='green',\n",
    "    icon_color='darkgreen',\n",
    "    spin=True\n",
    ")\n",
    "\n",
    "marker2 = Marker(icon=icon2, location=(center[0], center[1] + 0.05))\n",
    "\n",
    "m = Map(center=center, zoom=13)\n",
    "\n",
    "m.add_layer(marker1)\n",
    "m.add_layer(marker2)\n",
    "\n",
    "m\n",
    "\n"
   ]
  }
 ],
 "metadata": {
  "kernelspec": {
   "display_name": "Python 3",
   "language": "python",
   "name": "python3"
  },
  "language_info": {
   "codemirror_mode": {
    "name": "ipython",
    "version": 3
   },
   "file_extension": ".py",
   "mimetype": "text/x-python",
   "name": "python",
   "nbconvert_exporter": "python",
   "pygments_lexer": "ipython3",
   "version": "3.6.9"
  },
  "pycharm": {
   "stem_cell": {
    "cell_type": "raw",
    "metadata": {
     "collapsed": false
    },
    "source": []
   }
  }
 },
 "nbformat": 4,
 "nbformat_minor": 1
}
