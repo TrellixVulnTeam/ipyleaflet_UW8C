{
 "cells": [
  {
   "cell_type": "code",
   "execution_count": 6,
   "metadata": {},
   "outputs": [
    {
     "data": {
      "application/vnd.jupyter.widget-view+json": {
       "model_id": "04033f35c7df4191886fbabec903763e",
       "version_major": 2,
       "version_minor": 0
      },
      "text/plain": [
       "Map(center=[38.491, -95.712], controls=(ZoomControl(options=['position', 'zoom_in_text', 'zoom_in_title', 'zoo…"
      ]
     },
     "metadata": {},
     "output_type": "display_data"
    }
   ],
   "source": [
    "from ipyleaflet import Map, WMSLayer, basemaps\n",
    "wms = WMSLayer(\n",
    "    url='http://mesonet.agron.iastate.edu/cgi-bin/wms/nexrad/n0r.cgi',\n",
    "    layers='nexrad-n0r-900913',\n",
    "    format='image/png',\n",
    "    transparent=True,\n",
    "    attribution='Weather data © 2012 IEM Nexrad'\n",
    ")\n",
    "\n",
    "m = Map(basemap=basemaps.CartoDB.Positron, center=(38.491, -95.712), zoom=4)\n",
    "\n",
    "m.add_layer(wms)\n",
    "\n",
    "m\n",
    "\n"
   ]
  },
  {
   "cell_type": "code",
   "execution_count": 7,
   "metadata": {
    "pycharm": {
     "name": "#%%\n"
    }
   },
   "outputs": [
    {
     "data": {
      "application/vnd.jupyter.widget-view+json": {
       "model_id": "374d040efef2430583f008b30e5aabbb",
       "version_major": 2,
       "version_minor": 0
      },
      "text/plain": [
       "Map(center=[30.661, -88.645], controls=(ZoomControl(options=['position', 'zoom_in_text', 'zoom_in_title', 'zoo…"
      ]
     },
     "metadata": {},
     "output_type": "display_data"
    }
   ],
   "source": [
    "from traitlets import Unicode\n",
    "\n",
    "class TimeWMSLayer(WMSLayer):\n",
    "\n",
    "    time = Unicode('').tag(sync=True, o=True)\n",
    "\n",
    "\n",
    "time_wms = TimeWMSLayer(\n",
    "    url='https://mesonet.agron.iastate.edu/cgi-bin/wms/nexrad/n0r-t.cgi?',\n",
    "    layers='nexrad-n0r-wmst',\n",
    "    time='2005-08-29T13:00:00Z',\n",
    "    format='image/png',\n",
    "    transparent=True,\n",
    "    attribution='Weather data © 2012 IEM Nexrad'\n",
    ")\n",
    "\n",
    "m2 = Map(basemap=basemaps.CartoDB.Positron, center=(30.661, -88.645), zoom=5)\n",
    "\n",
    "m2.add_layer(time_wms)\n",
    "\n",
    "m2\n",
    "\n",
    "\n"
   ]
  },
  {
   "cell_type": "code",
   "execution_count": 8,
   "metadata": {
    "pycharm": {
     "name": "#%%\n"
    }
   },
   "outputs": [
    {
     "data": {
      "application/vnd.jupyter.widget-view+json": {
       "model_id": "5edc44b66b834cefbe58928b0e142f30",
       "version_major": 2,
       "version_minor": 0
      },
      "text/plain": [
       "SelectionSlider(description='Time:', options=('13:00', '13:30', '14:00', '14:30', '15:00', '15:30', '16:00', '…"
      ]
     },
     "metadata": {},
     "output_type": "display_data"
    }
   ],
   "source": [
    "from ipywidgets import SelectionSlider\n",
    "\n",
    "time_options = [\n",
    "    '13:00', '13:30',\n",
    "    '14:00', '14:30',\n",
    "    '15:00', '15:30',\n",
    "    '16:00', '16:30'\n",
    "]\n",
    "\n",
    "slider = SelectionSlider(description='Time:', options=time_options)\n",
    "\n",
    "def update_wms(change):\n",
    "    time_wms.time = '2005-08-29T{}'.format(slider.value)\n",
    "\n",
    "slider.observe(update_wms, 'value')\n",
    "\n",
    "slider\n",
    "\n"
   ]
  },
  {
   "cell_type": "code",
   "execution_count": null,
   "metadata": {},
   "outputs": [],
   "source": []
  }
 ],
 "metadata": {
  "kernelspec": {
   "display_name": "Python 3",
   "language": "python",
   "name": "python3"
  },
  "language_info": {
   "codemirror_mode": {
    "name": "ipython",
    "version": 3
   },
   "file_extension": ".py",
   "mimetype": "text/x-python",
   "name": "python",
   "nbconvert_exporter": "python",
   "pygments_lexer": "ipython3",
   "version": "3.6.9"
  },
  "pycharm": {
   "stem_cell": {
    "cell_type": "raw",
    "metadata": {
     "collapsed": false
    },
    "source": []
   }
  }
 },
 "nbformat": 4,
 "nbformat_minor": 1
}
