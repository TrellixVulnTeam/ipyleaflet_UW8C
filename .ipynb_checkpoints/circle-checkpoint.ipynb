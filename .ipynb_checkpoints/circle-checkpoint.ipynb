{
 "cells": [
  {
   "cell_type": "code",
   "execution_count": 1,
   "metadata": {},
   "outputs": [
    {
     "data": {
      "application/vnd.jupyter.widget-view+json": {
       "model_id": "2131ffba0a57480da1b7601ddd575746",
       "version_major": 2,
       "version_minor": 0
      },
      "text/plain": [
       "Map(center=[53, 354], controls=(ZoomControl(options=['position', 'zoom_in_text', 'zoom_in_title', 'zoom_out_te…"
      ]
     },
     "metadata": {},
     "output_type": "display_data"
    }
   ],
   "source": [
    "from ipyleaflet import Map, basemaps, basemap_to_tiles, Circle\n",
    "\n",
    "watercolor = basemap_to_tiles(basemaps.Stamen.Watercolor)\n",
    "\n",
    "m = Map(layers=(watercolor, ), center=(53, 354), zoom=5)\n",
    "\n",
    "circle = Circle()\n",
    "circle.location = (50, 354)\n",
    "circle.radius = 50000\n",
    "circle.color = \"green\"\n",
    "circle.fill_color = \"green\"\n",
    "\n",
    "m.add_layer(circle)\n",
    "\n",
    "m\n",
    "\n"
   ]
  },
  {
   "cell_type": "code",
   "execution_count": null,
   "metadata": {},
   "outputs": [],
   "source": []
  }
 ],
 "metadata": {
  "kernelspec": {
   "display_name": "Python 3",
   "language": "python",
   "name": "python3"
  },
  "language_info": {
   "codemirror_mode": {
    "name": "ipython",
    "version": 3
   },
   "file_extension": ".py",
   "mimetype": "text/x-python",
   "name": "python",
   "nbconvert_exporter": "python",
   "pygments_lexer": "ipython3",
   "version": "3.6.9"
  },
  "pycharm": {
   "stem_cell": {
    "cell_type": "raw",
    "metadata": {
     "collapsed": false
    },
    "source": []
   }
  }
 },
 "nbformat": 4,
 "nbformat_minor": 1
}
